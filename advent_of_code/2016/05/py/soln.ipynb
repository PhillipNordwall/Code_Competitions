{
 "cells": [
  {
   "cell_type": "code",
   "execution_count": 1,
   "metadata": {
    "collapsed": true
   },
   "outputs": [],
   "source": [
    "input = 'ojvtpuvg'"
   ]
  },
  {
   "cell_type": "code",
   "execution_count": 3,
   "metadata": {
    "collapsed": false
   },
   "outputs": [],
   "source": [
    "import hashlib"
   ]
  },
  {
   "cell_type": "code",
   "execution_count": 4,
   "metadata": {
    "collapsed": true
   },
   "outputs": [],
   "source": [
    "i=0"
   ]
  },
  {
   "cell_type": "code",
   "execution_count": 21,
   "metadata": {
    "collapsed": false
   },
   "outputs": [
    {
     "name": "stdout",
     "output_type": "stream",
     "text": [
      "4\n",
      "5\n",
      "4\n",
      "3\n",
      "c\n",
      "1\n",
      "5\n",
      "4\n",
      "8\n"
     ]
    },
    {
     "ename": "KeyboardInterrupt",
     "evalue": "",
     "output_type": "error",
     "traceback": [
      "\u001b[0;31m---------------------------------------------------------------------------\u001b[0m",
      "\u001b[0;31mKeyboardInterrupt\u001b[0m                         Traceback (most recent call last)",
      "\u001b[0;32m<ipython-input-21-2a96baa12deb>\u001b[0m in \u001b[0;36m<module>\u001b[0;34m()\u001b[0m\n\u001b[0;32m----> 1\u001b[0;31m \u001b[1;32mfor\u001b[0m \u001b[0mi\u001b[0m \u001b[1;32min\u001b[0m \u001b[0mrange\u001b[0m\u001b[1;33m(\u001b[0m\u001b[1;36m20000000\u001b[0m\u001b[1;33m)\u001b[0m\u001b[1;33m:\u001b[0m\u001b[1;33m\u001b[0m\u001b[0m\n\u001b[0m\u001b[1;32m      2\u001b[0m     \u001b[0mhash\u001b[0m \u001b[1;33m=\u001b[0m \u001b[0mhashlib\u001b[0m\u001b[1;33m.\u001b[0m\u001b[0mmd5\u001b[0m\u001b[1;33m(\u001b[0m\u001b[1;33m(\u001b[0m\u001b[0minput\u001b[0m \u001b[1;33m+\u001b[0m \u001b[0mstr\u001b[0m\u001b[1;33m(\u001b[0m\u001b[0mi\u001b[0m\u001b[1;33m)\u001b[0m\u001b[1;33m)\u001b[0m\u001b[1;33m.\u001b[0m\u001b[0mencode\u001b[0m\u001b[1;33m(\u001b[0m\u001b[1;34m'UTF-8'\u001b[0m\u001b[1;33m)\u001b[0m\u001b[1;33m)\u001b[0m\u001b[1;33m.\u001b[0m\u001b[0mhexdigest\u001b[0m\u001b[1;33m(\u001b[0m\u001b[1;33m)\u001b[0m\u001b[1;33m\u001b[0m\u001b[0m\n\u001b[1;32m      3\u001b[0m     \u001b[1;32mif\u001b[0m \u001b[0mhash\u001b[0m\u001b[1;33m[\u001b[0m\u001b[1;33m:\u001b[0m\u001b[1;36m5\u001b[0m\u001b[1;33m]\u001b[0m \u001b[1;33m==\u001b[0m \u001b[1;34m'00000'\u001b[0m\u001b[1;33m:\u001b[0m\u001b[1;33m\u001b[0m\u001b[0m\n\u001b[1;32m      4\u001b[0m         \u001b[0mprint\u001b[0m\u001b[1;33m(\u001b[0m\u001b[0mhash\u001b[0m\u001b[1;33m[\u001b[0m\u001b[1;36m5\u001b[0m\u001b[1;33m]\u001b[0m\u001b[1;33m)\u001b[0m\u001b[1;33m\u001b[0m\u001b[0m\n",
      "\u001b[0;31mKeyboardInterrupt\u001b[0m: "
     ]
    }
   ],
   "source": [
    "for i in range(20000000):\n",
    "    hash = hashlib.md5((input + str(i)).encode('UTF-8')).hexdigest()\n",
    "    if hash[:5] == '00000':\n",
    "        print(hash[5])"
   ]
  },
  {
   "cell_type": "code",
   "execution_count": 38,
   "metadata": {
    "collapsed": false
   },
   "outputs": [
    {
     "name": "stdout",
     "output_type": "stream",
     "text": [
      "000004c52f7523dcea0ae987bb4bb7ae-1469591\n",
      "----c---\n",
      "000005b6777c6a6a5a72d3593ee1bade-1925351\n",
      "----cb--\n",
      "0000049c67c129f031d6d2712e3e011d-4310992\n",
      "----9b--\n",
      "00000307d284ec5fe32c12546f61d675-4851204\n",
      "---09b--\n",
      "00000c4b121a0b7dceb8f719e3e5b9d1-6610226\n",
      "00000101e84b5e967cba0ba19c7e7e00-6840976\n",
      "-0-09b--\n",
      "00000574e86e49ffc208b84e771f3487-9504234\n",
      "-0-097--\n",
      "00000439e8d28b6d251a65563b7c09d1-10320588\n",
      "-0-037--\n",
      "000008b0db39adef6a1d517303fea769-11009275\n",
      "00000cf7dcf231d21fe7fdde75ddc435-11540947\n",
      "00000bfdb76ea16ec5a2ebcab4e3ae0c-12705714\n",
      "0000097dd5e65fd1437a5df439a4788a-13057078\n",
      "0000025a843b2da11af739013e61606f-13615245\n",
      "-05037--\n",
      "000004c59a9346e28b5874a9931665dd-14718986\n",
      "-050c7--\n",
      "000007d5f6040c1a402d7b5994b1e061-16706030\n",
      "-050c7-d\n",
      "00000c85b6afcb3487bcf9dd25a8d397-17045303\n",
      "0000015e5a89c4d43c138ec7216377f7-20797756\n",
      "-550c7-d\n",
      "000005433f1e5cb8c968edd5809e23e8-21799376\n",
      "-550c4-d\n",
      "00000daa272097f561153938c9156eb4-22569314\n",
      "00000e828dc841618678aeed7a4af074-22717846\n",
      "00000f0434b9dd57d34a30dd213e2227-23056264\n",
      "000006b0b288f96dcfc18f6a2414968b-23173947\n",
      "-550c4bd\n",
      "00000c434af05fa7a5ebe670b07c7c34-23680041\n",
      "0000001c18c78b4ca1896ebc9692c67d-27649592\n",
      "1550c4bd\n",
      "00000ddf8f916b8b708b00e9ccf6fae0-29723327\n",
      "000008332ea7d376a1dcd7d8ecb52b02-30227478\n",
      "00000af71a5519d0148e2bb2cb4f00a5-30652370\n",
      "0000092c9445c74befe78ffd7cd2a06a-31383475\n",
      "0000048e7d50ab7518caee1940dcec95-31603351\n",
      "155084bd\n",
      "00000697b0f82482641399504a265bc7-32374562\n",
      "1550849d\n",
      "000002f0a079ab7c4a3c8cc564dd1ead-33108188\n",
      "15f0849d\n",
      "000009333a9f9cf33b5a9369a4a5e1bf-33700684\n",
      "000003c4d636fb5246a1b78eba1df591-36536770\n",
      "15fc849d\n"
     ]
    },
    {
     "ename": "KeyboardInterrupt",
     "evalue": "",
     "output_type": "error",
     "traceback": [
      "\u001b[0;31m---------------------------------------------------------------------------\u001b[0m",
      "\u001b[0;31mKeyboardInterrupt\u001b[0m                         Traceback (most recent call last)",
      "\u001b[0;32m<ipython-input-38-ddf7e8d055da>\u001b[0m in \u001b[0;36m<module>\u001b[0;34m()\u001b[0m\n\u001b[1;32m      2\u001b[0m \u001b[0msol\u001b[0m \u001b[1;33m=\u001b[0m \u001b[1;33m[\u001b[0m\u001b[0mi\u001b[0m \u001b[1;32mfor\u001b[0m \u001b[0mi\u001b[0m \u001b[1;32min\u001b[0m \u001b[1;34m'--------'\u001b[0m\u001b[1;33m]\u001b[0m\u001b[1;33m\u001b[0m\u001b[0m\n\u001b[1;32m      3\u001b[0m \u001b[1;32mfor\u001b[0m \u001b[0mi\u001b[0m \u001b[1;32min\u001b[0m \u001b[0mrange\u001b[0m\u001b[1;33m(\u001b[0m\u001b[1;36m2000000000\u001b[0m\u001b[1;33m)\u001b[0m\u001b[1;33m:\u001b[0m\u001b[1;33m\u001b[0m\u001b[0m\n\u001b[0;32m----> 4\u001b[0;31m     \u001b[0mhash\u001b[0m \u001b[1;33m=\u001b[0m \u001b[0mhashlib\u001b[0m\u001b[1;33m.\u001b[0m\u001b[0mmd5\u001b[0m\u001b[1;33m(\u001b[0m\u001b[1;33m(\u001b[0m\u001b[0minput\u001b[0m \u001b[1;33m+\u001b[0m \u001b[0mstr\u001b[0m\u001b[1;33m(\u001b[0m\u001b[0mi\u001b[0m\u001b[1;33m)\u001b[0m\u001b[1;33m)\u001b[0m\u001b[1;33m.\u001b[0m\u001b[0mencode\u001b[0m\u001b[1;33m(\u001b[0m\u001b[1;34m'UTF-8'\u001b[0m\u001b[1;33m)\u001b[0m\u001b[1;33m)\u001b[0m\u001b[1;33m.\u001b[0m\u001b[0mhexdigest\u001b[0m\u001b[1;33m(\u001b[0m\u001b[1;33m)\u001b[0m\u001b[1;33m\u001b[0m\u001b[0m\n\u001b[0m\u001b[1;32m      5\u001b[0m     \u001b[1;32mif\u001b[0m \u001b[0mhash\u001b[0m\u001b[1;33m[\u001b[0m\u001b[1;33m:\u001b[0m\u001b[1;36m5\u001b[0m\u001b[1;33m]\u001b[0m \u001b[1;33m==\u001b[0m \u001b[1;34m'00000'\u001b[0m\u001b[1;33m:\u001b[0m\u001b[1;33m\u001b[0m\u001b[0m\n\u001b[1;32m      6\u001b[0m         \u001b[0ms\u001b[0m\u001b[1;33m.\u001b[0m\u001b[0mappend\u001b[0m\u001b[1;33m(\u001b[0m\u001b[0mhash\u001b[0m\u001b[1;33m)\u001b[0m\u001b[1;33m\u001b[0m\u001b[0m\n",
      "\u001b[0;31mKeyboardInterrupt\u001b[0m: "
     ]
    }
   ],
   "source": [
    "s = []\n",
    "sol = [i for i in '--------']\n",
    "for i in range(2000000000):\n",
    "    hash = hashlib.md5((input + str(i)).encode('UTF-8')).hexdigest()\n",
    "    if hash[:5] == '00000':\n",
    "        s.append(hash)\n",
    "        print(hash+'-'+str(i))\n",
    "        if hash[5] in '01234567':\n",
    "            sol[int(hash[5])] = hash[6]\n",
    "            print(\"\".join(sol))"
   ]
  },
  {
   "cell_type": "code",
   "execution_count": 19,
   "metadata": {
    "collapsed": false
   },
   "outputs": [
    {
     "data": {
      "text/plain": [
       "'00000155f8105dff7f56ee10fa9b9abd'"
      ]
     },
     "execution_count": 19,
     "metadata": {},
     "output_type": "execute_result"
    }
   ],
   "source": [
    "'1050cbbd'"
   ]
  }
 ],
 "metadata": {
  "kernelspec": {
   "display_name": "Python 3",
   "language": "python",
   "name": "python3"
  },
  "language_info": {
   "codemirror_mode": {
    "name": "ipython",
    "version": 3
   },
   "file_extension": ".py",
   "mimetype": "text/x-python",
   "name": "python",
   "nbconvert_exporter": "python",
   "pygments_lexer": "ipython3",
   "version": "3.5.2"
  }
 },
 "nbformat": 4,
 "nbformat_minor": 2
}
