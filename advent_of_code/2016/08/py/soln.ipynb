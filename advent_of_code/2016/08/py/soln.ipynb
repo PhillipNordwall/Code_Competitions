{
 "cells": [
  {
   "cell_type": "code",
   "execution_count": 74,
   "metadata": {
    "collapsed": true
   },
   "outputs": [],
   "source": [
    "with open(\"../input\", \"r\") as f:\n",
    "    in_l = f.readlines()"
   ]
  },
  {
   "cell_type": "code",
   "execution_count": 75,
   "metadata": {
    "collapsed": true
   },
   "outputs": [],
   "source": [
    "import numpy as np"
   ]
  },
  {
   "cell_type": "code",
   "execution_count": 76,
   "metadata": {
    "collapsed": false
   },
   "outputs": [],
   "source": [
    "def rect( sc, a, b):\n",
    "    sc[0:b,0:a] = 1\n",
    "\n",
    "def rotr(sc, a, b):\n",
    "    sc[a, :] = np.roll(sc[a, :], b)\n",
    "    \n",
    "def rotc(sc, a, b):\n",
    "    sc[:, a] = np.roll(sc[:, a], b)"
   ]
  },
  {
   "cell_type": "code",
   "execution_count": 80,
   "metadata": {
    "collapsed": false
   },
   "outputs": [
    {
     "data": {
      "text/plain": [
       "115.0"
      ]
     },
     "execution_count": 80,
     "metadata": {},
     "output_type": "execute_result"
    }
   ],
   "source": [
    "sc = np.zeros((6,50))\n",
    "\n",
    "for line in in_l:\n",
    "    i = line.split(' ')\n",
    "    if i[0] == 'rect':\n",
    "        rect(sc, int(i[1].split('x')[0]), int(i[1].split('x')[1][:-1]))\n",
    "    else:\n",
    "        if i[1] == 'row':\n",
    "             rotr(sc, int(i[2][2:]), int(i[4]))\n",
    "        else:\n",
    "             rotc(sc, int(i[2][2:]), int(i[4]))\n",
    "sc.sum().sum()             "
   ]
  },
  {
   "cell_type": "code",
   "execution_count": 95,
   "metadata": {
    "collapsed": false
   },
   "outputs": [
    {
     "name": "stdout",
     "output_type": "stream",
     "text": [
      "#### #### #### #   ##  # #### ###  ####  ###   ## \n",
      "#    #    #    #   ## #  #    #  # #      #     # \n",
      "###  ###  ###   # # ##   ###  #  # ###    #     # \n",
      "#    #    #      #  # #  #    ###  #      #     # \n",
      "#    #    #      #  # #  #    # #  #      #  #  # \n",
      "#### #    ####   #  #  # #    #  # #     ###  ##  \n"
     ]
    }
   ],
   "source": [
    "for i in range(6):\n",
    "    for j in sc[i,:]:\n",
    "        print('#' if j > 0 else ' ', end='')\n",
    "    print('')"
   ]
  },
  {
   "cell_type": "code",
   "execution_count": null,
   "metadata": {
    "collapsed": true
   },
   "outputs": [],
   "source": [
    "EFEYKFRFIJ"
   ]
  }
 ],
 "metadata": {
  "kernelspec": {
   "display_name": "Python 3",
   "language": "python",
   "name": "python3"
  },
  "language_info": {
   "codemirror_mode": {
    "name": "ipython",
    "version": 3
   },
   "file_extension": ".py",
   "mimetype": "text/x-python",
   "name": "python",
   "nbconvert_exporter": "python",
   "pygments_lexer": "ipython3",
   "version": "3.5.2"
  }
 },
 "nbformat": 4,
 "nbformat_minor": 2
}
