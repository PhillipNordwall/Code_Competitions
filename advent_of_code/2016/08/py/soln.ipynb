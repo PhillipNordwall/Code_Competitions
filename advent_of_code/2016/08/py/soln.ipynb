{
 "cells": [
  {
   "cell_type": "code",
   "execution_count": 1,
   "metadata": {
    "collapsed": true
   },
   "outputs": [],
   "source": [
    "with open(\"../input\", \"r\") as f:\n",
    "    in_l = f.readlines()"
   ]
  },
  {
   "cell_type": "code",
   "execution_count": 2,
   "metadata": {
    "collapsed": true
   },
   "outputs": [],
   "source": [
    "import numpy as np"
   ]
  },
  {
   "cell_type": "code",
   "execution_count": 3,
   "metadata": {
    "collapsed": false
   },
   "outputs": [],
   "source": [
    "def rect( sc, a, b):\n",
    "    sc[0:b,0:a] = 1"
   ]
  },
  {
   "cell_type": "code",
   "execution_count": 11,
   "metadata": {
    "collapsed": false
   },
   "outputs": [
    {
     "name": "stdout",
     "output_type": "stream",
     "text": [
      "115.0\n"
     ]
    }
   ],
   "source": [
    "sc = np.zeros((6,50))\n",
    "\n",
    "for line in in_l:\n",
    "    i = line.split(' ')\n",
    "    if i[0] == 'rect':\n",
    "        sc[0: int(i[1].split('x')[1][:-1]), 0:int(i[1].split('x')[0])] = 1\n",
    "    else:\n",
    "        a, b = int(i[2][2:]), int(i[4])\n",
    "        if i[1] == 'row': sc[a, :] = np.roll(sc[a, :], b)\n",
    "        else: sc[:, a] = np.roll(sc[:, a], b)\n",
    "print(sc.sum().sum()             )"
   ]
  },
  {
   "cell_type": "code",
   "execution_count": 12,
   "metadata": {
    "collapsed": false
   },
   "outputs": [
    {
     "name": "stdout",
     "output_type": "stream",
     "text": [
      "████ ████ ████ █   ██  █ ████ ███  ████  ███   ██ \n",
      "█    █    █    █   ██ █  █    █  █ █      █     █ \n",
      "███  ███  ███   █ █ ██   ███  █  █ ███    █     █ \n",
      "█    █    █      █  █ █  █    ███  █      █     █ \n",
      "█    █    █      █  █ █  █    █ █  █      █  █  █ \n",
      "████ █    ████   █  █  █ █    █  █ █     ███  ██  \n"
     ]
    }
   ],
   "source": [
    "for i in range(6):\n",
    "    for j in sc[i,:]:\n",
    "        print('█' if j > 0 else ' ', end='')\n",
    "    print('')"
   ]
  },
  {
   "cell_type": "code",
   "execution_count": 6,
   "metadata": {
    "collapsed": false
   },
   "outputs": [
    {
     "ename": "SyntaxError",
     "evalue": "EOL while scanning string literal (<ipython-input-6-3c2d7c2fe1f0>, line 1)",
     "output_type": "error",
     "traceback": [
      "\u001b[0;36m  File \u001b[0;32m\"<ipython-input-6-3c2d7c2fe1f0>\"\u001b[0;36m, line \u001b[0;32m1\u001b[0m\n\u001b[0;31m    'EFEYKFRFIJ''\u001b[0m\n\u001b[0m                 ^\u001b[0m\n\u001b[0;31mSyntaxError\u001b[0m\u001b[0;31m:\u001b[0m EOL while scanning string literal\n"
     ]
    }
   ],
   "source": [
    "'EFEYKFRFIJ''"
   ]
  }
 ],
 "metadata": {
  "kernelspec": {
   "display_name": "Python 3",
   "language": "python",
   "name": "python3"
  },
  "language_info": {
   "codemirror_mode": {
    "name": "ipython",
    "version": 3
   },
   "file_extension": ".py",
   "mimetype": "text/x-python",
   "name": "python",
   "nbconvert_exporter": "python",
   "pygments_lexer": "ipython3",
   "version": "3.5.2"
  }
 },
 "nbformat": 4,
 "nbformat_minor": 2
}
