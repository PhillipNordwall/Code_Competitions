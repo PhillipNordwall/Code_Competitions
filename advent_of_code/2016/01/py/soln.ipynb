{
 "cells": [
  {
   "cell_type": "code",
   "execution_count": 2,
   "metadata": {
    "collapsed": true
   },
   "outputs": [],
   "source": [
    "import functools as func\n",
    "import itertools as it"
   ]
  },
  {
   "cell_type": "code",
   "execution_count": 3,
   "metadata": {
    "collapsed": true
   },
   "outputs": [],
   "source": [
    "with open(\"../input\", \"r\") as f:\n",
    "    inputa = f.read()"
   ]
  },
  {
   "cell_type": "code",
   "execution_count": 4,
   "metadata": {
    "collapsed": true
   },
   "outputs": [],
   "source": [
    "in_l = [(i[0], int(i[1:]))for i in inputa.split(', ')]\n",
    "state = {'cur':'N', 'N':0, 'E':0, 'S':0, 'W':0}\n",
    "T = {('N', 'L'):'W', ('N', 'R'):'E',\n",
    "     ('E', 'L'):'N', ('E', 'R'):'S',\n",
    "     ('S', 'L'):'E', ('S', 'R'):'W',\n",
    "     ('W', 'L'):'S', ('W', 'R'):'N'}"
   ]
  },
  {
   "cell_type": "code",
   "execution_count": 5,
   "metadata": {
    "collapsed": false
   },
   "outputs": [],
   "source": [
    "def transition(st, cmd):\n",
    "    ns = st.copy()\n",
    "    ns['cur'] = T[(st['cur'], cmd[0])]\n",
    "    ns[ns['cur']] += cmd[1]\n",
    "    return ns"
   ]
  },
  {
   "cell_type": "code",
   "execution_count": 6,
   "metadata": {
    "collapsed": false
   },
   "outputs": [],
   "source": [
    "ns = func.reduce(transition, in_l, state)"
   ]
  },
  {
   "cell_type": "code",
   "execution_count": 7,
   "metadata": {
    "collapsed": false
   },
   "outputs": [
    {
     "name": "stdout",
     "output_type": "stream",
     "text": [
      "299\n"
     ]
    }
   ],
   "source": [
    "#print('%d W, %d N' % (ns['W'] - ns['E'], ns['S'] - ns['N']))\n",
    "print(ns['W'] - ns['E'] + ns['S'] - ns['N'])"
   ]
  },
  {
   "cell_type": "code",
   "execution_count": 8,
   "metadata": {
    "collapsed": false
   },
   "outputs": [],
   "source": [
    "state = {'cur':'N', 'N':0, 'E':0, 'S':0, 'W':0, 'v':[], 'r':[]}\n",
    "def expand(b, e):\n",
    "    return list(it.product(range(b[0], e[0]+(-1 if b[0] > e[0] else 1), -1 if b[0] > e[0] else 1),\n",
    "                           range(b[1], e[1]+(-1 if b[1] > e[1] else 1), -1 if b[1] > e[1] else 1)))[1:]\n",
    "def transition2(st, cmd):\n",
    "    ns = st.copy()\n",
    "    ns['cur'] = T[(st['cur'], cmd[0])]\n",
    "    ns[ns['cur']] += cmd[1]\n",
    "    oldpos = (st['W'] - st['E'], st['S'] - st['N'])\n",
    "    newpos = (ns['W'] - ns['E'], ns['S'] - ns['N'])\n",
    "    for nv in expand(oldpos, newpos):\n",
    "        if nv in st['v']:\n",
    "            ns['r'].append(nv)\n",
    "    ns['v'] += expand(oldpos, newpos)\n",
    "    return ns"
   ]
  },
  {
   "cell_type": "code",
   "execution_count": 9,
   "metadata": {
    "collapsed": true
   },
   "outputs": [],
   "source": [
    "ns = func.reduce(transition2, in_l, state)"
   ]
  },
  {
   "cell_type": "code",
   "execution_count": 10,
   "metadata": {
    "collapsed": false
   },
   "outputs": [
    {
     "name": "stdout",
     "output_type": "stream",
     "text": [
      "181\n"
     ]
    }
   ],
   "source": [
    "print(sum(ns['r'][0]))"
   ]
  }
 ],
 "metadata": {
  "kernelspec": {
   "display_name": "Python 3",
   "language": "python",
   "name": "python3"
  },
  "language_info": {
   "codemirror_mode": {
    "name": "ipython",
    "version": 3
   },
   "file_extension": ".py",
   "mimetype": "text/x-python",
   "name": "python",
   "nbconvert_exporter": "python",
   "pygments_lexer": "ipython3",
   "version": "3.5.2"
  }
 },
 "nbformat": 4,
 "nbformat_minor": 2
}
