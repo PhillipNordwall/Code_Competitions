{
 "cells": [
  {
   "cell_type": "code",
   "execution_count": 36,
   "metadata": {
    "collapsed": false
   },
   "outputs": [],
   "source": [
    "with open(\"../input\", \"r\") as f:\n",
    "    inp = f.read()"
   ]
  },
  {
   "cell_type": "code",
   "execution_count": 103,
   "metadata": {
    "collapsed": false
   },
   "outputs": [
    {
     "name": "stdout",
     "output_type": "stream",
     "text": [
      "993\n",
      "1849\n"
     ]
    }
   ],
   "source": [
    "inpl = list(map(int,inp.split()))\n",
    "\n",
    "ina = list(zip(*[iter(inpl)]*3))\n",
    "print(sum(map(lambda x: 1 if sorted(x)[0] + sorted(x)[1] > sorted(x)[2] else 0, ina)))\n",
    "\n",
    "inb = list(zip(*[iter(inpl[0::3]+inpl[1::3]+inpl[2::3])]*3))\n",
    "print(sum(map(lambda x: 1 if sorted(x)[0] + sorted(x)[1] > sorted(x)[2] else 0, inb)))"
   ]
  },
  {
   "cell_type": "code",
   "execution_count": null,
   "metadata": {
    "collapsed": true
   },
   "outputs": [],
   "source": []
  }
 ],
 "metadata": {
  "kernelspec": {
   "display_name": "Python 3",
   "language": "python",
   "name": "python3"
  },
  "language_info": {
   "codemirror_mode": {
    "name": "ipython",
    "version": 3
   },
   "file_extension": ".py",
   "mimetype": "text/x-python",
   "name": "python",
   "nbconvert_exporter": "python",
   "pygments_lexer": "ipython3",
   "version": "3.5.2+"
  }
 },
 "nbformat": 4,
 "nbformat_minor": 1
}
