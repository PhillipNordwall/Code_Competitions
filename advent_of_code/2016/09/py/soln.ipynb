{
 "cells": [
  {
   "cell_type": "code",
   "execution_count": 84,
   "metadata": {
    "collapsed": true
   },
   "outputs": [],
   "source": [
    "import re\n",
    "import numpy\n",
    "import hashlib\n",
    "with open(\"../input\", \"r\") as f:\n",
    "    inp = f.read()"
   ]
  },
  {
   "cell_type": "code",
   "execution_count": 79,
   "metadata": {
    "collapsed": true
   },
   "outputs": [],
   "source": [
    "def deca(inp):\n",
    "    i = 0\n",
    "    v = 0\n",
    "    while True:\n",
    "        if i >= len(inp):\n",
    "            break\n",
    "        a = re.match(r'^\\((\\d+)x(\\d+)\\)', inp[i:])\n",
    "        if a:\n",
    "            length = int(a.groups()[0])\n",
    "            rep = int(a.groups()[1])\n",
    "            i += len(a.group())\n",
    "            v += length*rep\n",
    "            i += length\n",
    "        else:\n",
    "            v += 1\n",
    "            i += 1\n",
    "    return v\n"
   ]
  },
  {
   "cell_type": "code",
   "execution_count": 83,
   "metadata": {
    "collapsed": false
   },
   "outputs": [
    {
     "data": {
      "text/plain": [
       "[6, 7, 9, 6, 18]"
      ]
     },
     "execution_count": 83,
     "metadata": {},
     "output_type": "execute_result"
    }
   ],
   "source": [
    "[deca(i) for i in in_l]"
   ]
  },
  {
   "cell_type": "code",
   "execution_count": 85,
   "metadata": {
    "collapsed": false
   },
   "outputs": [
    {
     "data": {
      "text/plain": [
       "107036"
      ]
     },
     "execution_count": 85,
     "metadata": {},
     "output_type": "execute_result"
    }
   ],
   "source": [
    "deca(inp)"
   ]
  },
  {
   "cell_type": "code",
   "execution_count": 86,
   "metadata": {
    "collapsed": true
   },
   "outputs": [],
   "source": [
    "def decb(inp):\n",
    "    i = 0\n",
    "    v = 0\n",
    "    while True:\n",
    "        if i >= len(inp):\n",
    "            break\n",
    "        a = re.match(r'^\\((\\d+)x(\\d+)\\)', inp[i:])\n",
    "        if a:\n",
    "            length = int(a.groups()[0])\n",
    "            rep = int(a.groups()[1])\n",
    "            i += len(a.group())\n",
    "            v += rep * decb(inp[i:i+length])\n",
    "            i += length\n",
    "        else:\n",
    "            v += 1\n",
    "            i += 1\n",
    "    return v"
   ]
  },
  {
   "cell_type": "code",
   "execution_count": 87,
   "metadata": {
    "collapsed": false
   },
   "outputs": [
    {
     "data": {
      "text/plain": [
       "[6, 7, 9, 3, 20]"
      ]
     },
     "execution_count": 87,
     "metadata": {},
     "output_type": "execute_result"
    }
   ],
   "source": [
    "[decb(i) for i in in_l]"
   ]
  },
  {
   "cell_type": "code",
   "execution_count": 88,
   "metadata": {
    "collapsed": false
   },
   "outputs": [
    {
     "data": {
      "text/plain": [
       "11451628996"
      ]
     },
     "execution_count": 88,
     "metadata": {},
     "output_type": "execute_result"
    }
   ],
   "source": [
    "decb(inp)"
   ]
  },
  {
   "cell_type": "code",
   "execution_count": null,
   "metadata": {
    "collapsed": true
   },
   "outputs": [],
   "source": []
  }
 ],
 "metadata": {
  "kernelspec": {
   "display_name": "Python 3",
   "language": "python",
   "name": "python3"
  },
  "language_info": {
   "codemirror_mode": {
    "name": "ipython",
    "version": 3
   },
   "file_extension": ".py",
   "mimetype": "text/x-python",
   "name": "python",
   "nbconvert_exporter": "python",
   "pygments_lexer": "ipython3",
   "version": "3.5.2"
  }
 },
 "nbformat": 4,
 "nbformat_minor": 2
}
