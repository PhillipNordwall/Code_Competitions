{
 "cells": [
  {
   "cell_type": "code",
   "execution_count": 1,
   "metadata": {
    "collapsed": true
   },
   "outputs": [],
   "source": [
    "from functools import reduce, partial"
   ]
  },
  {
   "cell_type": "code",
   "execution_count": 2,
   "metadata": {
    "collapsed": false
   },
   "outputs": [],
   "source": [
    "with open(\"../input\", \"r\") as f:\n",
    "    inp = f.read()\n",
    "in_l = inp.split()"
   ]
  },
  {
   "cell_type": "code",
   "execution_count": 61,
   "metadata": {
    "collapsed": true
   },
   "outputs": [],
   "source": [
    "\n",
    "def transition(st, v, T):\n",
    "    \"\"\"transition looks up an edge from a node and returns a new node\"\"\"\n",
    "    return T[st][v]\n",
    "\n",
    "def lookup(vc, kc):\n",
    "    \"\"\"builds a lookup dictionary from two collections\"\"\"\n",
    "    return dict(zip(kc, vc))\n",
    "\n",
    "t = partial(lookup, kc='UDLR')\n",
    "\n",
    "def code(state, ttable, dirs):\n",
    "    \"\"\"maps a function that performs state transition to a list of\n",
    "    commands via a reduce with a single transition function, to a\n",
    "    list of the list of commands\"\"\"\n",
    "    return \"\".join(map(lambda line: reduce(partial(transition, T=ttable), line, state), dirs))"
   ]
  },
  {
   "cell_type": "code",
   "execution_count": 62,
   "metadata": {
    "collapsed": false
   },
   "outputs": [
    {
     "name": "stdout",
     "output_type": "stream",
     "text": [
      "84452\n"
     ]
    }
   ],
   "source": [
    "Ta = lookup(map(t, ['1412', '2513', '3623',\n",
    "                    '1745', '2846', '3956',\n",
    "                    '4778', '5879', '6989']),\n",
    "            '123456789')\n",
    "print(code('5', Ta, in_l))"
   ]
  },
  {
   "cell_type": "code",
   "execution_count": 63,
   "metadata": {
    "collapsed": false
   },
   "outputs": [
    {
     "name": "stdout",
     "output_type": "stream",
     "text": [
      "D65C3\n"
     ]
    }
   ],
   "source": [
    "Tb = lookup(map(t, [                '1311',\n",
    "                            '2623', '1724', '4834',\n",
    "                    '5556', '2A57', '3B68', '4C79', '9989',\n",
    "                            '6AAB', '7DAC', '8CBC',\n",
    "                                    'BDDD']),\n",
    "            '123456789ABCD')\n",
    "print(code('5', Tb, in_l))"
   ]
  }
 ],
 "metadata": {
  "kernelspec": {
   "display_name": "Python 3",
   "language": "python",
   "name": "python3"
  },
  "language_info": {
   "codemirror_mode": {
    "name": "ipython",
    "version": 3
   },
   "file_extension": ".py",
   "mimetype": "text/x-python",
   "name": "python",
   "nbconvert_exporter": "python",
   "pygments_lexer": "ipython3",
   "version": "3.5.2"
  }
 },
 "nbformat": 4,
 "nbformat_minor": 2
}
