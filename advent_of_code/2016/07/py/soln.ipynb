{
 "cells": [
  {
   "cell_type": "code",
   "execution_count": 1,
   "metadata": {
    "collapsed": true
   },
   "outputs": [],
   "source": [
    "with open(\"../input\", \"r\") as f:\n",
    "    in_l = f.readlines()"
   ]
  },
  {
   "cell_type": "code",
   "execution_count": 2,
   "metadata": {
    "collapsed": false
   },
   "outputs": [],
   "source": [
    "def parta(s):\n",
    "    outer, inner, b = False, False, 0\n",
    "    prev = '=+_-'\n",
    "    for i in s:\n",
    "        prev = prev[1:] + i\n",
    "        b += 1 if i == '[' else -1 if i == ']' else 0\n",
    "        pat = prev[0] == prev[3] and prev[1] == prev[2] and prev[0] != prev[1]\n",
    "        mask = b>0\n",
    "        outer = outer or (pat and not mask)\n",
    "        inner = inner or (pat and mask)\n",
    "    return outer and not inner"
   ]
  },
  {
   "cell_type": "code",
   "execution_count": 3,
   "metadata": {
    "collapsed": false
   },
   "outputs": [
    {
     "data": {
      "text/plain": [
       "118"
      ]
     },
     "execution_count": 3,
     "metadata": {},
     "output_type": "execute_result"
    }
   ],
   "source": [
    "sum(map(parta, in_l))"
   ]
  },
  {
   "cell_type": "code",
   "execution_count": 4,
   "metadata": {
    "collapsed": false,
    "scrolled": true
   },
   "outputs": [
    {
     "data": {
      "text/plain": [
       "260"
      ]
     },
     "execution_count": 4,
     "metadata": {},
     "output_type": "execute_result"
    }
   ],
   "source": [
    "import re\n",
    "def partb(s):\n",
    "    a = re.match(r'.*((.)(.)\\2.*\\3\\2\\3).*', s)\n",
    "    return (a != None) and (len(re.findall(r'[\\[\\]]', a.groups()[0]))%2)\n",
    "\n",
    "sum(map(partb, in_l))"
   ]
  }
 ],
 "metadata": {
  "kernelspec": {
   "display_name": "Python 3",
   "language": "python",
   "name": "python3"
  },
  "language_info": {
   "codemirror_mode": {
    "name": "ipython",
    "version": 3
   },
   "file_extension": ".py",
   "mimetype": "text/x-python",
   "name": "python",
   "nbconvert_exporter": "python",
   "pygments_lexer": "ipython3",
   "version": "3.5.2"
  }
 },
 "nbformat": 4,
 "nbformat_minor": 2
}
