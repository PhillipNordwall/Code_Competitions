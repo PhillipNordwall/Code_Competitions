{
 "cells": [
  {
   "cell_type": "code",
   "execution_count": 1,
   "metadata": {
    "collapsed": true
   },
   "outputs": [],
   "source": [
    "with open(\"../input\", \"r\") as f:\n",
    "    inp = f.read()\n",
    "in_l = inp.split()"
   ]
  },
  {
   "cell_type": "code",
   "execution_count": 78,
   "metadata": {
    "collapsed": false,
    "scrolled": true
   },
   "outputs": [],
   "source": [
    "from collections import Counter"
   ]
  },
  {
   "cell_type": "code",
   "execution_count": 146,
   "metadata": {
    "collapsed": false
   },
   "outputs": [],
   "source": [
    "def ihash(t):\n",
    "    s = \"\".join(t.split('-')[:-1])\n",
    "    cs = Counter(s)\n",
    "    return \"\".join([i[1] for i in sorted((-1*v, k) for k, v in cs.items())[:5]])"
   ]
  },
  {
   "cell_type": "code",
   "execution_count": 187,
   "metadata": {
    "collapsed": false
   },
   "outputs": [
    {
     "data": {
      "text/plain": [
       "245102"
      ]
     },
     "execution_count": 187,
     "metadata": {},
     "output_type": "execute_result"
    }
   ],
   "source": [
    "ina = [(ihash(a),\n",
    "        int(a.split(\"-\")[-1].split('[')[0]),\n",
    "        a.split(\"-\")[-1].split('[')[1][:-1])\n",
    "       for a in in_l]\n",
    "\n",
    "sum([i[1] for i in ina if i[0] == i[2]])"
   ]
  },
  {
   "cell_type": "code",
   "execution_count": 178,
   "metadata": {
    "collapsed": true
   },
   "outputs": [],
   "source": [
    "def shiftc(c, n):\n",
    "    return chr((ord(c) - ord('a') + n)%26+ord('a'))"
   ]
  },
  {
   "cell_type": "code",
   "execution_count": 175,
   "metadata": {
    "collapsed": false
   },
   "outputs": [],
   "source": [
    "from functools import partial"
   ]
  },
  {
   "cell_type": "code",
   "execution_count": 230,
   "metadata": {
    "collapsed": false
   },
   "outputs": [
    {
     "data": {
      "text/plain": [
       "[('northpolemobjectmstoragemsrtgoterni', 324)]"
      ]
     },
     "execution_count": 230,
     "metadata": {},
     "output_type": "execute_result"
    }
   ],
   "source": [
    "ina = [(ihash(a),\n",
    "        int(a.split(\"-\")[-1].split('[')[0]),\n",
    "        a.split(\"-\")[-1].split('[')[1][:-1], \n",
    "        a)\n",
    "       for a in in_l]\n",
    "\n",
    "ina1 = [(\"\".join(map(partial(shiftc, n=i[1]), i[3])), i[1]) for i in ina if i[0] == i[2]]\n",
    "([i for i in ina1 if 'north' in i[0]])"
   ]
  },
  {
   "cell_type": "markdown",
   "metadata": {},
   "source": []
  }
 ],
 "metadata": {
  "kernelspec": {
   "display_name": "Python 3",
   "language": "python",
   "name": "python3"
  },
  "language_info": {
   "codemirror_mode": {
    "name": "ipython",
    "version": 3
   },
   "file_extension": ".py",
   "mimetype": "text/x-python",
   "name": "python",
   "nbconvert_exporter": "python",
   "pygments_lexer": "ipython3",
   "version": "3.5.2"
  }
 },
 "nbformat": 4,
 "nbformat_minor": 2
}
